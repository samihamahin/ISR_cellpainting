{
 "cells": [
  {
   "cell_type": "code",
   "execution_count": 1,
   "metadata": {},
   "outputs": [],
   "source": [
    "import os\n",
    "import pandas as pd\n",
    "import numpy as np"
   ]
  },
  {
   "cell_type": "code",
   "execution_count": 2,
   "metadata": {},
   "outputs": [],
   "source": [
    "def dataset_generator(folder_path):\n",
    "    files = os.listdir(folder_path)\n",
    "    \n",
    "    for file_name in files:\n",
    "        if file_name != '.ipynb_checkpoints':\n",
    "            \n",
    "            file_path = folder_path + '/' + file_name\n",
    "\n",
    "            #delete header, marker delineates the header and marker\n",
    "            marker = \"[Data]\"\n",
    "            with open(file_path, 'r') as file:\n",
    "                lines = file.readlines()\n",
    "            try:\n",
    "                start_index = lines.index(next(line for line in lines if marker in line)) + 1\n",
    "            except StopIteration:\n",
    "                start_index = 0  # Marker not found, retain the whole file\n",
    "            with open(file_path, 'w') as file:\n",
    "                file.writelines(lines[start_index:])\n",
    "\n",
    "            df = pd.read_csv(file_path, delimiter='\\t', header=0)\n",
    "\n",
    "            conditions = [\n",
    "                df['Row'] == 2,\n",
    "                df['Row'] == 3,\n",
    "                df['Row'] == 4\n",
    "            ]\n",
    "\n",
    "            choices = [\"Ad\", \"Ag\", \"AgS\"]\n",
    "\n",
    "            # Apply conditions and choices\n",
    "            df['Group'] = np.select(conditions, choices, default=None)\n",
    "\n",
    "            print(file_name)\n",
    "\n",
    "            file_csv = file_name.split('.')[0]\n",
    "\n",
    "\n",
    "            df.to_csv(folder_path + '/' + file_csv + '.csv', index=False)\n",
    "\n",
    "            print(file_csv + \":DONE\")"
   ]
  },
  {
   "cell_type": "code",
   "execution_count": 3,
   "metadata": {
    "scrolled": true
   },
   "outputs": [
    {
     "name": "stdout",
     "output_type": "stream",
     "text": [
      "Objects_Population - Nuclei.txt\n",
      "Objects_Population - Nuclei:DONE\n",
      "PlateResults.txt\n",
      "PlateResults:DONE\n",
      "Objects_Population - Nuclei Border.txt\n",
      "Objects_Population - Nuclei Border:DONE\n"
     ]
    }
   ],
   "source": [
    "dataset_generator('cell_painting_3_22_24_MuSCs')"
   ]
  },
  {
   "cell_type": "code",
   "execution_count": 4,
   "metadata": {
    "scrolled": true
   },
   "outputs": [
    {
     "name": "stdout",
     "output_type": "stream",
     "text": [
      "Objects_Population - Nuclei.txt\n",
      "Objects_Population - Nuclei:DONE\n",
      "PlateResults.txt\n",
      "PlateResults:DONE\n",
      "Objects_Population - Nuclei Border.txt\n",
      "Objects_Population - Nuclei Border:DONE\n"
     ]
    }
   ],
   "source": [
    "dataset_generator('cell_painting_3_24_24_MuSCs')"
   ]
  }
 ],
 "metadata": {
  "kernelspec": {
   "display_name": "remote_singlecellseq",
   "language": "python",
   "name": "remote_singlecellseq"
  },
  "language_info": {
   "codemirror_mode": {
    "name": "ipython",
    "version": 3
   },
   "file_extension": ".py",
   "mimetype": "text/x-python",
   "name": "python",
   "nbconvert_exporter": "python",
   "pygments_lexer": "ipython3",
   "version": "3.9.18"
  }
 },
 "nbformat": 4,
 "nbformat_minor": 4
}
